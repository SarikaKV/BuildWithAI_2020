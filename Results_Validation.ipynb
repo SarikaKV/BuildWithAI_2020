{
  "nbformat": 4,
  "nbformat_minor": 0,
  "metadata": {
    "colab": {
      "name": "Results Validation.ipynb",
      "provenance": [],
      "mount_file_id": "19uOkNV6yo-CNG4zVZe3Lshm0UIE7I9YP",
      "authorship_tag": "ABX9TyPizE1GpiBl75qh4x38YKrz",
      "include_colab_link": true
    },
    "kernelspec": {
      "name": "python3",
      "display_name": "Python 3"
    }
  },
  "cells": [
    {
      "cell_type": "markdown",
      "metadata": {
        "id": "view-in-github",
        "colab_type": "text"
      },
      "source": [
        "<a href=\"https://colab.research.google.com/github/SarikaKV/BuildWithAI_2020/blob/master/Results_Validation.ipynb\" target=\"_parent\"><img src=\"https://colab.research.google.com/assets/colab-badge.svg\" alt=\"Open In Colab\"/></a>"
      ]
    },
    {
      "cell_type": "code",
      "metadata": {
        "id": "e5su6LSfC_0t",
        "colab_type": "code",
        "colab": {}
      },
      "source": [
        "import os\n",
        "import pandas as pd"
      ],
      "execution_count": null,
      "outputs": []
    },
    {
      "cell_type": "code",
      "metadata": {
        "id": "NYMgPeczDLDP",
        "colab_type": "code",
        "colab": {}
      },
      "source": [
        "path = '/content/drive/My Drive/Hackathon_2020/data'\n",
        "results = os.path.join(path, 'results')"
      ],
      "execution_count": null,
      "outputs": []
    },
    {
      "cell_type": "code",
      "metadata": {
        "id": "yyW-QV2nDVQW",
        "colab_type": "code",
        "colab": {
          "base_uri": "https://localhost:8080/",
          "height": 238
        },
        "outputId": "4e284894-d27a-4663-e2f1-38e8de4dc458"
      },
      "source": [
        "df_news = pd.read_csv(os.path.join(results, 'old_news', 'all_news.csv'),\n",
        "                           header = 0, sep = ',', error_bad_lines=False, encoding = \"ISO-8859-1\", parse_dates = True)\n",
        "df_news.columns"
      ],
      "execution_count": null,
      "outputs": [
        {
          "output_type": "stream",
          "text": [
            "/usr/local/lib/python3.6/dist-packages/IPython/core/interactiveshell.py:2718: DtypeWarning: Columns (13) have mixed types.Specify dtype option on import or set low_memory=False.\n",
            "  interactivity=interactivity, compiler=compiler, result=result)\n"
          ],
          "name": "stderr"
        },
        {
          "output_type": "execute_result",
          "data": {
            "text/plain": [
              "Index(['Unnamed: 0', 'Unnamed: 0.1', 'coordinates', 'created_at', 'hashtags',\n",
              "       'media', 'urls', 'favorite_count', 'id', 'in_reply_to_screen_name',\n",
              "       'in_reply_to_status_id', 'in_reply_to_user_id', 'lang', 'place',\n",
              "       'possibly_sensitive', 'retweet_count', 'retweet_id',\n",
              "       'retweet_screen_name', 'source', 'text', 'tweet_url', 'user_created_at',\n",
              "       'user_screen_name', 'user_default_profile_image', 'user_description',\n",
              "       'user_favourites_count', 'user_followers_count', 'user_friends_count',\n",
              "       'user_listed_count', 'user_location', 'user_name', 'user_screen_name.1',\n",
              "       'user_statuses_count', 'user_time_zone', 'user_urls', 'user_verified',\n",
              "       'is_retweet', 'text_noHT_MT', 'query', 'query_score'],\n",
              "      dtype='object')"
            ]
          },
          "metadata": {
            "tags": []
          },
          "execution_count": 90
        }
      ]
    },
    {
      "cell_type": "code",
      "metadata": {
        "id": "rOAZAkbcDjN2",
        "colab_type": "code",
        "colab": {}
      },
      "source": [
        "df_news = df_news[['created_at', 'favorite_count', 'id','place',\n",
        "       'possibly_sensitive', 'retweet_count', 'text',  'user_followers_count', 'user_friends_count',\n",
        "       'user_listed_count', 'user_location', 'user_name','is_retweet', 'text_noHT_MT', 'query', 'query_score']]"
      ],
      "execution_count": null,
      "outputs": []
    },
    {
      "cell_type": "code",
      "metadata": {
        "id": "mGzyORPFEFwV",
        "colab_type": "code",
        "colab": {
          "base_uri": "https://localhost:8080/",
          "height": 272
        },
        "outputId": "deb2a33e-40f7-467a-c102-32d78cfb7fbf"
      },
      "source": [
        "set(df_news['query'].values)"
      ],
      "execution_count": null,
      "outputs": [
        {
          "output_type": "execute_result",
          "data": {
            "text/plain": [
              "{'5G and COVID-19 were linked',\n",
              " '5G radiation weakens the immune system',\n",
              " 'anti-depressants',\n",
              " 'anti-vaxxer movement targeting Bill Gates as well as the anti-tech movement',\n",
              " 'anxiety',\n",
              " 'cognitive psychology',\n",
              " 'depression during corona',\n",
              " 'mental therapy',\n",
              " 'nightmares',\n",
              " 'psychologist',\n",
              " 'sadness',\n",
              " 'therapist',\n",
              " 'therapy',\n",
              " 'things like 5G are responsible for some terrible things going on',\n",
              " 'uneasy'}"
            ]
          },
          "metadata": {
            "tags": []
          },
          "execution_count": 9
        }
      ]
    },
    {
      "cell_type": "code",
      "metadata": {
        "id": "TOGoYSJzEilW",
        "colab_type": "code",
        "colab": {}
      },
      "source": [
        "news_topics = {'COVID-19 and the 5G Conspiracy Theory': 'COVID 5G Conspiracy',\n",
        "               '5G and COVID-19 were linked': 'COVID 5G Conspiracy',\n",
        "               'things like 5G are responsible for some terrible things going on': 'COVID 5G Conspiracy',\n",
        "               '5G radiation weakens the immune system': 'COVID 5G Conspiracy',\n",
        "               'anti-vaxxer movement targeting Bill Gates as well as the anti-tech movement': 'Bill Gates Conspiracy',\n",
        "               'depression during corona': 'Mental Health', 'sadness': 'Mental Health', 'anxiety': 'Mental Health','nightmares': 'Mental Health',\n",
        "               'uneasy': 'Mental Health','psychologist': 'Mental Health','therapist': 'Mental Health','therapy': 'Mental Health','cognitive psychology': 'Mental Health',\n",
        "               'mental therapy':'Mental Health','anti-depressants':'Mental Health',\n",
        "               'Trump supports wearing masks': 'Trump actions',\n",
        "               '- Trump supports mask wearing \"We are United in our effort to defeat the Invisible China Virus, and many people say that it is Patriotic to wear a face mask when you can’t socially distance. There is nobody more Patriotic than me, your favorite President': 'Trump actions'\n",
        "               }"
      ],
      "execution_count": null,
      "outputs": []
    },
    {
      "cell_type": "code",
      "metadata": {
        "id": "mUJPg47-EaYG",
        "colab_type": "code",
        "colab": {}
      },
      "source": [
        "df_news['topic'] = df_news['query'].apply(lambda x: news_topics[x])"
      ],
      "execution_count": null,
      "outputs": []
    },
    {
      "cell_type": "code",
      "metadata": {
        "id": "RvczidlRGHdO",
        "colab_type": "code",
        "colab": {}
      },
      "source": [
        "df_news.to_csv(os.path.join(results, 'all_news_ripon.csv'))"
      ],
      "execution_count": null,
      "outputs": []
    },
    {
      "cell_type": "code",
      "metadata": {
        "id": "Ye1FC-YyJGU3",
        "colab_type": "code",
        "colab": {
          "base_uri": "https://localhost:8080/",
          "height": 34
        },
        "outputId": "e57e6d63-8549-4718-b79e-c450e99c65d2"
      },
      "source": [
        "set(df_news['topic'].values)"
      ],
      "execution_count": null,
      "outputs": [
        {
          "output_type": "execute_result",
          "data": {
            "text/plain": [
              "{'Bill Gates Conspiracy', 'COVID 5G Conspiracy', 'Mental Health'}"
            ]
          },
          "metadata": {
            "tags": []
          },
          "execution_count": 93
        }
      ]
    },
    {
      "cell_type": "code",
      "metadata": {
        "id": "LySw1ZY7Prb0",
        "colab_type": "code",
        "colab": {}
      },
      "source": [
        "#df_news = df_news.drop(['query'], axis = 1)\n",
        "df_news.drop_duplicates(inplace=True)\n"
      ],
      "execution_count": null,
      "outputs": []
    },
    {
      "cell_type": "code",
      "metadata": {
        "id": "aTVcfrmtLv6Y",
        "colab_type": "code",
        "colab": {}
      },
      "source": [
        "from afinn import Afinn\n",
        "af = Afinn()\n",
        "def get_sentiment(df_news):\n",
        "  # compute sentiment scores (polarity) and labels\n",
        "  sentiment_scores = [af.score(tweet) for tweet in df_news['text_noHT_MT'].values]\n",
        "  sentiment_category = ['positive' if score > 0 \n",
        "                            else 'negative' if score < 0 \n",
        "                                else 'neutral' \n",
        "                                    for score in sentiment_scores]\n",
        "  df_news['sentiment_score'] = sentiment_scores\n",
        "  df_news['sentiment_category']  = sentiment_category\n",
        "  return df_news "
      ],
      "execution_count": null,
      "outputs": []
    },
    {
      "cell_type": "code",
      "metadata": {
        "id": "ZKXz0-fxQtFk",
        "colab_type": "code",
        "colab": {
          "base_uri": "https://localhost:8080/",
          "height": 51
        },
        "outputId": "12765715-25ac-4c01-d332-8b4d48a8aac4"
      },
      "source": [
        "%%time\n",
        "df_news = df_news[df_news['text_noHT_MT'].notna()]\n",
        "df_news = get_sentiment(df_news)"
      ],
      "execution_count": null,
      "outputs": [
        {
          "output_type": "stream",
          "text": [
            "CPU times: user 1min 5s, sys: 23.9 ms, total: 1min 5s\n",
            "Wall time: 1min 5s\n"
          ],
          "name": "stdout"
        }
      ]
    },
    {
      "cell_type": "code",
      "metadata": {
        "id": "YfUSENR8JP_3",
        "colab_type": "code",
        "colab": {}
      },
      "source": [
        "df_5g = df_news[df_news['topic'] == 'COVID 5G Conspiracy'].sort_values(['query_score'], ascending= False)\n",
        "df_5g"
      ],
      "execution_count": null,
      "outputs": []
    },
    {
      "cell_type": "code",
      "metadata": {
        "id": "Vaqd5LGAQa93",
        "colab_type": "code",
        "colab": {
          "base_uri": "https://localhost:8080/",
          "height": 34
        },
        "outputId": "8494ec52-fb5b-4a75-d72c-5dacf4d385d8"
      },
      "source": [
        "!pip install afinn"
      ],
      "execution_count": null,
      "outputs": [
        {
          "output_type": "stream",
          "text": [
            "Requirement already satisfied: afinn in /usr/local/lib/python3.6/dist-packages (0.1)\n"
          ],
          "name": "stdout"
        }
      ]
    },
    {
      "cell_type": "code",
      "metadata": {
        "id": "FkC2X25kp4oQ",
        "colab_type": "code",
        "colab": {
          "base_uri": "https://localhost:8080/",
          "height": 34
        },
        "outputId": "3a4bc7ee-c32e-4474-82ab-85031140113d"
      },
      "source": [
        "df_news['is_retweet'] = df_news['text'].apply(lambda x: x[:2]=='RT')\n",
        "print(\"Total number of Retweets: {}\".format(df_news['is_retweet'].sum()))\n",
        "df_news = df_news[df_news['is_retweet'] == False]"
      ],
      "execution_count": null,
      "outputs": [
        {
          "output_type": "stream",
          "text": [
            "Total number of Retweets: 17254\n"
          ],
          "name": "stdout"
        }
      ]
    },
    {
      "cell_type": "code",
      "metadata": {
        "id": "FBhME-f6Qfz4",
        "colab_type": "code",
        "colab": {
          "base_uri": "https://localhost:8080/",
          "height": 34
        },
        "outputId": "d91dcf4c-016f-4e91-e03b-9c46a077e591"
      },
      "source": [
        "df = df_news[df_news['retweet_count'] == 762]\n",
        "print(df[['text']]['text'].iloc[0])"
      ],
      "execution_count": null,
      "outputs": [
        {
          "output_type": "stream",
          "text": [
            "Roughly 100 LAPD officers protested Saturday in front of their headquarters in downtown Los Angeles, urging the public and leaders to \"defend the police.\" https://t.co/0ihAClMkbV\n"
          ],
          "name": "stdout"
        }
      ]
    },
    {
      "cell_type": "code",
      "metadata": {
        "id": "bR3uW90ipANq",
        "colab_type": "code",
        "colab": {
          "base_uri": "https://localhost:8080/",
          "height": 34
        },
        "outputId": "67537e41-ecd2-4079-b80c-efbc02ef1892"
      },
      "source": [
        "print(df[['text']]['text'].iloc[0])"
      ],
      "execution_count": null,
      "outputs": [
        {
          "output_type": "stream",
          "text": [
            "How could this happen? https://t.co/L8YXyJPDiI\n"
          ],
          "name": "stdout"
        }
      ]
    },
    {
      "cell_type": "code",
      "metadata": {
        "id": "EZFjhfVtpQOa",
        "colab_type": "code",
        "colab": {}
      },
      "source": [
        "A surprising new study found that the controversial antimalarial drug hydroxychloroquine helped Covid-19 patients better survive in the hospital.\n",
        "https://t.co/j6zs4SI2Su"
      ],
      "execution_count": null,
      "outputs": []
    },
    {
      "cell_type": "code",
      "metadata": {
        "id": "ysLaKpgN6Aoq",
        "colab_type": "code",
        "colab": {}
      },
      "source": [
        "df_event_phrases_dates = pd.read_csv(os.path.join(path, 'media_details.csv'))\n",
        "df_event_phrases_dates"
      ],
      "execution_count": null,
      "outputs": []
    },
    {
      "cell_type": "code",
      "metadata": {
        "id": "KNYdWLKs9zrC",
        "colab_type": "code",
        "colab": {}
      },
      "source": [
        "df_news[['user_name', 'user_screen_name', 'user_screen_name.1']]"
      ],
      "execution_count": null,
      "outputs": []
    },
    {
      "cell_type": "code",
      "metadata": {
        "id": "uu6gZ0nc6MKM",
        "colab_type": "code",
        "colab": {}
      },
      "source": [
        "event_dates = dict(zip(df_event_phrases_dates['name'], df_event_phrases_dates.account_tye))\n",
        "event_dates"
      ],
      "execution_count": null,
      "outputs": []
    },
    {
      "cell_type": "code",
      "metadata": {
        "id": "ZQDVPx2M6jls",
        "colab_type": "code",
        "colab": {}
      },
      "source": [
        "df_news['media_category'] = df_news['user_name'].apply(lambda x: get_type(x))"
      ],
      "execution_count": null,
      "outputs": []
    },
    {
      "cell_type": "code",
      "metadata": {
        "id": "g8FrS8Vn-f2q",
        "colab_type": "code",
        "colab": {}
      },
      "source": [
        "def get_type(x):\n",
        "  if x in event_dates.keys():\n",
        "    return event_dates[x]\n",
        "  else:\n",
        "    return "
      ],
      "execution_count": null,
      "outputs": []
    },
    {
      "cell_type": "code",
      "metadata": {
        "id": "K6t_Fo5v6xlt",
        "colab_type": "code",
        "colab": {
          "base_uri": "https://localhost:8080/",
          "height": 85
        },
        "outputId": "c02cc808-306e-4f75-8839-dd23bc7c6e0f"
      },
      "source": [
        "df_news['media_category'].value_counts()"
      ],
      "execution_count": null,
      "outputs": [
        {
          "output_type": "execute_result",
          "data": {
            "text/plain": [
              "media                 58160\n",
              "healthcare_experts     9302\n",
              "President               416\n",
              "Name: media_category, dtype: int64"
            ]
          },
          "metadata": {
            "tags": []
          },
          "execution_count": 109
        }
      ]
    },
    {
      "cell_type": "code",
      "metadata": {
        "id": "7aml_peu7Gkw",
        "colab_type": "code",
        "colab": {}
      },
      "source": [
        ""
      ],
      "execution_count": null,
      "outputs": []
    }
  ]
}